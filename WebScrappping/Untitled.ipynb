{
 "cells": [
  {
   "cell_type": "code",
   "execution_count": 32,
   "id": "468f3432-264b-4ac8-aab4-95a2441b6a0e",
   "metadata": {},
   "outputs": [],
   "source": [
    "import pandas as pd"
   ]
  },
  {
   "cell_type": "code",
   "execution_count": 33,
   "id": "78bb9936",
   "metadata": {},
   "outputs": [],
   "source": [
    "import requests"
   ]
  },
  {
   "cell_type": "code",
   "execution_count": 34,
   "id": "b4e8317d",
   "metadata": {},
   "outputs": [],
   "source": [
    "from bs4 import BeautifulSoup"
   ]
  },
  {
   "cell_type": "code",
   "execution_count": 35,
   "id": "125a14d5",
   "metadata": {},
   "outputs": [],
   "source": [
    "url=\"https://books.toscrape.com/index.html\"\n",
    "respone=requests.get(url)\n",
    "soup=BeautifulSoup(respone.text,'html.parser')\n"
   ]
  },
  {
   "cell_type": "code",
   "execution_count": 36,
   "id": "51be7db6",
   "metadata": {},
   "outputs": [],
   "source": [
    "##We are going to find categories\n",
    "categories_name=[]\n",
    "categories_url=[]\n",
    "categories=soup.find('ul',class_='nav-list')\n",
    "categories_links=categories.find_all('a')\n"
   ]
  },
  {
   "cell_type": "code",
   "execution_count": 37,
   "id": "b718f58a",
   "metadata": {},
   "outputs": [],
   "source": [
    "for link in categories_links:\n",
    "    categories_url.append(\"https://books.toscrape.com/\"+link['href'])\n",
    "    categories_name.append(link.text.strip())"
   ]
  },
  {
   "cell_type": "code",
   "execution_count": 38,
   "id": "51fffda6",
   "metadata": {},
   "outputs": [
    {
     "data": {
      "text/plain": [
       "['Books',\n",
       " 'Travel',\n",
       " 'Mystery',\n",
       " 'Historical Fiction',\n",
       " 'Sequential Art',\n",
       " 'Classics',\n",
       " 'Philosophy',\n",
       " 'Romance',\n",
       " 'Womens Fiction',\n",
       " 'Fiction',\n",
       " 'Childrens',\n",
       " 'Religion',\n",
       " 'Nonfiction',\n",
       " 'Music',\n",
       " 'Default',\n",
       " 'Science Fiction',\n",
       " 'Sports and Games',\n",
       " 'Add a comment',\n",
       " 'Fantasy',\n",
       " 'New Adult',\n",
       " 'Young Adult',\n",
       " 'Science',\n",
       " 'Poetry',\n",
       " 'Paranormal',\n",
       " 'Art',\n",
       " 'Psychology',\n",
       " 'Autobiography',\n",
       " 'Parenting',\n",
       " 'Adult Fiction',\n",
       " 'Humor',\n",
       " 'Horror',\n",
       " 'History',\n",
       " 'Food and Drink',\n",
       " 'Christian Fiction',\n",
       " 'Business',\n",
       " 'Biography',\n",
       " 'Thriller',\n",
       " 'Contemporary',\n",
       " 'Spirituality',\n",
       " 'Academic',\n",
       " 'Self Help',\n",
       " 'Historical',\n",
       " 'Christian',\n",
       " 'Suspense',\n",
       " 'Short Stories',\n",
       " 'Novels',\n",
       " 'Health',\n",
       " 'Politics',\n",
       " 'Cultural',\n",
       " 'Erotica',\n",
       " 'Crime']"
      ]
     },
     "execution_count": 38,
     "metadata": {},
     "output_type": "execute_result"
    }
   ],
   "source": [
    "categories_name"
   ]
  },
  {
   "cell_type": "code",
   "execution_count": 39,
   "id": "c491c892",
   "metadata": {},
   "outputs": [
    {
     "data": {
      "text/plain": [
       "['https://books.toscrape.com/catalogue/category/books_1/index.html',\n",
       " 'https://books.toscrape.com/catalogue/category/books/travel_2/index.html',\n",
       " 'https://books.toscrape.com/catalogue/category/books/mystery_3/index.html',\n",
       " 'https://books.toscrape.com/catalogue/category/books/historical-fiction_4/index.html',\n",
       " 'https://books.toscrape.com/catalogue/category/books/sequential-art_5/index.html',\n",
       " 'https://books.toscrape.com/catalogue/category/books/classics_6/index.html',\n",
       " 'https://books.toscrape.com/catalogue/category/books/philosophy_7/index.html',\n",
       " 'https://books.toscrape.com/catalogue/category/books/romance_8/index.html',\n",
       " 'https://books.toscrape.com/catalogue/category/books/womens-fiction_9/index.html',\n",
       " 'https://books.toscrape.com/catalogue/category/books/fiction_10/index.html',\n",
       " 'https://books.toscrape.com/catalogue/category/books/childrens_11/index.html',\n",
       " 'https://books.toscrape.com/catalogue/category/books/religion_12/index.html',\n",
       " 'https://books.toscrape.com/catalogue/category/books/nonfiction_13/index.html',\n",
       " 'https://books.toscrape.com/catalogue/category/books/music_14/index.html',\n",
       " 'https://books.toscrape.com/catalogue/category/books/default_15/index.html',\n",
       " 'https://books.toscrape.com/catalogue/category/books/science-fiction_16/index.html',\n",
       " 'https://books.toscrape.com/catalogue/category/books/sports-and-games_17/index.html',\n",
       " 'https://books.toscrape.com/catalogue/category/books/add-a-comment_18/index.html',\n",
       " 'https://books.toscrape.com/catalogue/category/books/fantasy_19/index.html',\n",
       " 'https://books.toscrape.com/catalogue/category/books/new-adult_20/index.html',\n",
       " 'https://books.toscrape.com/catalogue/category/books/young-adult_21/index.html',\n",
       " 'https://books.toscrape.com/catalogue/category/books/science_22/index.html',\n",
       " 'https://books.toscrape.com/catalogue/category/books/poetry_23/index.html',\n",
       " 'https://books.toscrape.com/catalogue/category/books/paranormal_24/index.html',\n",
       " 'https://books.toscrape.com/catalogue/category/books/art_25/index.html',\n",
       " 'https://books.toscrape.com/catalogue/category/books/psychology_26/index.html',\n",
       " 'https://books.toscrape.com/catalogue/category/books/autobiography_27/index.html',\n",
       " 'https://books.toscrape.com/catalogue/category/books/parenting_28/index.html',\n",
       " 'https://books.toscrape.com/catalogue/category/books/adult-fiction_29/index.html',\n",
       " 'https://books.toscrape.com/catalogue/category/books/humor_30/index.html',\n",
       " 'https://books.toscrape.com/catalogue/category/books/horror_31/index.html',\n",
       " 'https://books.toscrape.com/catalogue/category/books/history_32/index.html',\n",
       " 'https://books.toscrape.com/catalogue/category/books/food-and-drink_33/index.html',\n",
       " 'https://books.toscrape.com/catalogue/category/books/christian-fiction_34/index.html',\n",
       " 'https://books.toscrape.com/catalogue/category/books/business_35/index.html',\n",
       " 'https://books.toscrape.com/catalogue/category/books/biography_36/index.html',\n",
       " 'https://books.toscrape.com/catalogue/category/books/thriller_37/index.html',\n",
       " 'https://books.toscrape.com/catalogue/category/books/contemporary_38/index.html',\n",
       " 'https://books.toscrape.com/catalogue/category/books/spirituality_39/index.html',\n",
       " 'https://books.toscrape.com/catalogue/category/books/academic_40/index.html',\n",
       " 'https://books.toscrape.com/catalogue/category/books/self-help_41/index.html',\n",
       " 'https://books.toscrape.com/catalogue/category/books/historical_42/index.html',\n",
       " 'https://books.toscrape.com/catalogue/category/books/christian_43/index.html',\n",
       " 'https://books.toscrape.com/catalogue/category/books/suspense_44/index.html',\n",
       " 'https://books.toscrape.com/catalogue/category/books/short-stories_45/index.html',\n",
       " 'https://books.toscrape.com/catalogue/category/books/novels_46/index.html',\n",
       " 'https://books.toscrape.com/catalogue/category/books/health_47/index.html',\n",
       " 'https://books.toscrape.com/catalogue/category/books/politics_48/index.html',\n",
       " 'https://books.toscrape.com/catalogue/category/books/cultural_49/index.html',\n",
       " 'https://books.toscrape.com/catalogue/category/books/erotica_50/index.html',\n",
       " 'https://books.toscrape.com/catalogue/category/books/crime_51/index.html']"
      ]
     },
     "execution_count": 39,
     "metadata": {},
     "output_type": "execute_result"
    }
   ],
   "source": [
    "categories_url"
   ]
  },
  {
   "cell_type": "code",
   "execution_count": 40,
   "id": "2c85172d",
   "metadata": {},
   "outputs": [],
   "source": [
    "books=[]\n",
    "price=[]\n"
   ]
  },
  {
   "cell_type": "code",
   "execution_count": null,
   "id": "bf1fd1e7",
   "metadata": {},
   "outputs": [],
   "source": [
    "def get_books(url1):\n",
    "    respone1=requests.get(url1)\n",
    "    soup1=BeautifulSoup(respone1.text,'html.parser')\n",
    "    book_containers=soup.find_all('article',class_a='product_pod')\n",
    "    for book in book_containers:\n",
    "        books.append(book.h3.a['title'])\n",
    "        \n",
    "    \n",
    "    "
   ]
  }
 ],
 "metadata": {
  "kernelspec": {
   "display_name": "Python 3 (ipykernel)",
   "language": "python",
   "name": "python3"
  },
  "language_info": {
   "codemirror_mode": {
    "name": "ipython",
    "version": 3
   },
   "file_extension": ".py",
   "mimetype": "text/x-python",
   "name": "python",
   "nbconvert_exporter": "python",
   "pygments_lexer": "ipython3",
   "version": "3.12.1"
  }
 },
 "nbformat": 4,
 "nbformat_minor": 5
}
